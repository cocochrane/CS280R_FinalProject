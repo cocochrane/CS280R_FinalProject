{
 "cells": [
  {
   "cell_type": "code",
   "execution_count": 19,
   "metadata": {
    "collapsed": true
   },
   "outputs": [],
   "source": [
    "import pandas as pd\n",
    "import numpy as np\n"
   ]
  },
  {
   "cell_type": "code",
   "execution_count": 14,
   "metadata": {
    "collapsed": false
   },
   "outputs": [
    {
     "name": "stdout",
     "output_type": "stream",
     "text": [
      "[[ 0.  1.  1. ...,  0.  0.  0.]\n",
      " [ 1.  0.  0. ...,  0.  0.  0.]\n",
      " [ 1.  0.  0. ...,  0.  0.  0.]\n",
      " ..., \n",
      " [ 0.  0.  0. ...,  0.  0.  0.]\n",
      " [ 0.  0.  0. ...,  0.  0.  0.]\n",
      " [ 0.  0.  0. ...,  0.  0.  0.]]\n"
     ]
    }
   ],
   "source": [
    "#1: set up facebook people network, as symmetric matrix with weights all 1\n",
    "\n",
    "number_of_people = 4039\n",
    "people_network = np.empty([4039,4039])\n",
    "\n",
    "fb_connections = np.loadtxt('facebook_combined.txt', delimiter = \" \")\n",
    "for i in fb_connections:\n",
    "    people_network[int(i[0])][int(i[1])] = 1\n",
    "    people_network[int(i[1])][int(i[0])] = 1\n",
    "\n",
    "print people_network"
   ]
  },
  {
   "cell_type": "code",
   "execution_count": 28,
   "metadata": {
    "collapsed": false
   },
   "outputs": [],
   "source": [
    "#2: Split people into Republican, Democrat, or Independent\n",
    "#40.9% call themselves liberal, 28.4% moderate, and 30.7% call themselves conservative \n",
    "\n",
    "parties = list(range(number_of_people))\n",
    "np.random.shuffle(parties)\n",
    "\n",
    "democrats = parties[:int(len(parties)*0.41)]\n",
    "republicans = parties[int(len(parties)*0.41)+1:int(len(parties)*0.72)]\n",
    "independents = parties[int(len(parties)*0.72)+1:]"
   ]
  },
  {
   "cell_type": "code",
   "execution_count": 51,
   "metadata": {
    "collapsed": false
   },
   "outputs": [],
   "source": [
    "#3: Add in news sites and fake news sites\n",
    "num_news_sites = 7\n",
    "fake_news_sites = 8\n",
    "\n",
    "news_sites_indices = []\n",
    "total_network = people_network\n",
    "for i in range(num_news_sites):\n",
    "    news_sites_indices.append(number_of_people+i)\n",
    "    total_network = np.insert(total_network,-1,0,axis = 1)\n",
    "    total_network = np.insert(total_network,-1,0,axis = 0)\n",
    "\n",
    "news_sites_indices_political = np.random.choice(3,num_news_sites,replace = False)\n",
    "    \n",
    "fake_news_sites_indices = []\n",
    "for i in range(fake_news_sites):\n",
    "    fake_news_sites_indices.append(news_sites_indices[-1]+1+i)\n",
    "    total_network = np.insert(total_network,-1,0,axis = 1)\n",
    "    total_network = np.insert(total_network,-1,0,axis = 0)\n",
    "\n",
    "fake_news_sites_indices_political = np.random.choice(2,fake_news_sites,replace = False)\n",
    "\n",
    "#fake_news_sites_indices holds the indices for the fake news sites\n",
    "#news_sites_indices holds the indices for the regular news sites\n",
    "#0 is democratic, 1 is republican, 2 is independent "
   ]
  },
  {
   "cell_type": "code",
   "execution_count": 63,
   "metadata": {
    "collapsed": false
   },
   "outputs": [
    {
     "name": "stdout",
     "output_type": "stream",
     "text": [
      "[4047.0, 4049.0, 4048.0, 4050.0]\n"
     ]
    }
   ],
   "source": [
    "#4: Construct weight (W) matrix\n",
    "weight_for_significant_others = 0.2\n",
    "weight_given_to_news_sources = 0.1\n",
    "number_news_connections = 4\n",
    "\n",
    "for i in range(number_of_people):\n",
    "    weight_given = 0\n",
    "    connections = np.nonzero(total_network[i,:] != 0)[0]\n",
    "    signif_others = [connections[i] for i in np.random.choice(len(connections),2,replace = False)]\n",
    "    for j in signif_others:\n",
    "        total_network[i,j] = weight_for_significant_others\n",
    "        weight_given += weight_for_significant_others\n",
    "    \n",
    "    if i in democrats:\n",
    "        my_news = [news_sites_indices[i] for i in range(len(news_sites_indices)) if news_sites_indices_political[i] == 0]\n",
    "        my_fake_news = [fake_news_sites_indices[i] for i in range(len(fake_news_sites_indices)) if fake_news_sites_indices_political[i] == 0]\n",
    "        all_news = np.append(my_fake_news,my_news)\n",
    "        news_connections = [all_news[i] for i in np.random.choice(len(all_news),number_news_connections,replace = False)]\n",
    "        print news_connections\n",
    "    elif i in republicans:\n",
    "        my_news = [news_sites_indices[i] for i in range(len(news_sites_indices)) if news_sites_indices_political[i] == 1]\n",
    "        my_fake_news = [fake_news_sites_indices[i] for i in range(len(fake_news_sites_indices)) if fake_news_sites_indices_political[i] == 1]\n",
    "        all_news = np.append(my_fake_news,my_news)\n",
    "        news_connections = [all_news[i] for i in np.random.choice(len(all_news),number_news_connections,replace = False)]\n",
    "        print news_connections\n",
    "    elif i in independents:\n",
    "        all_news = np.append(news_sites_indices,fake_news_sites_indices)\n",
    "        news_connections = [all_news[i] for i in np.random.choice(len(all_news),number_news_connections, replace = False)]\n",
    "        print news_connections\n",
    "    \n",
    "    for a in news_connections:\n",
    "        total_network[i,int(a)] = weight_given_to_news_sources\n",
    "        weight_given += weight_given_to_news_sources\n",
    "        \n",
    "    weight_left = 1-weight_given\n",
    "    np.random.shuffle(connections)\n",
    "    for c in connections:\n",
    "        if weight_left > 0:\n",
    "            w = np.random.random()*weight_left\n",
    "            total_network[i,c] = w\n",
    "            weight_left = weight_left - w\n",
    "    \n",
    "    break\n",
    "    "
   ]
  },
  {
   "cell_type": "code",
   "execution_count": 36,
   "metadata": {
    "collapsed": false
   },
   "outputs": [
    {
     "data": {
      "text/plain": [
       "(array([1, 2]),)"
      ]
     },
     "execution_count": 36,
     "metadata": {},
     "output_type": "execute_result"
    }
   ],
   "source": [
    "a = np.array([1,2,3])\n",
    "np.nonzero(a != 1)"
   ]
  }
 ],
 "metadata": {
  "anaconda-cloud": {},
  "kernelspec": {
   "display_name": "Python [py27]",
   "language": "python",
   "name": "Python [py27]"
  },
  "language_info": {
   "codemirror_mode": {
    "name": "ipython",
    "version": 2
   },
   "file_extension": ".py",
   "mimetype": "text/x-python",
   "name": "python",
   "nbconvert_exporter": "python",
   "pygments_lexer": "ipython2",
   "version": "2.7.12"
  }
 },
 "nbformat": 4,
 "nbformat_minor": 0
}

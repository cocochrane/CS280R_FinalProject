{
 "cells": [
  {
   "cell_type": "code",
   "execution_count": 1,
   "metadata": {
    "collapsed": true
   },
   "outputs": [],
   "source": [
    "import numpy as np\n",
    "import random"
   ]
  },
  {
   "cell_type": "code",
   "execution_count": 2,
   "metadata": {
    "collapsed": true
   },
   "outputs": [],
   "source": [
    "def add_in_news_sites(num_news_sites,fake_news_sites, total_network, number_of_people):\n",
    "    '''This function adds the news sites into the network graph\n",
    "    \n",
    "    Parameters:\n",
    "    ----------\n",
    "    num_news_sites: the number of news sites in our network\n",
    "    fake_news_sites: the number of fake news sites in our network\n",
    "    total_network: the current matrix network (with just people)\n",
    "    number_of_people: number of nodes in facebook graph\n",
    "    \n",
    "    Returns:\n",
    "    --------\n",
    "    total_network: network with fake news sites added\n",
    "    news_sites_indices: indices in the total_network of the news sites\n",
    "    news_sites_indices_political: array which specifies 0 (Democrat) or 1 (Republican) for each index in news_sites_indices\n",
    "    fake_news_sites_indices: indices in the total_network of the fake news sites\n",
    "    fake_news_sites_indices_political: array which specifies 0 (Democrat) or 1 (Republican) for each index in fake_news_sites_indices\n",
    "\n",
    "    For example, if news_sites_indices = [233, 455, 600] and news_sites_indices_political = [0,1,1] then the news sites\n",
    "    at indices 455 and 600 are republican news sites and the news site at index 233 is democratic.\n",
    "    '''\n",
    "    \n",
    "    #3: Add in news sites and fake news sites\n",
    "    n = 4039\n",
    "    news_sites_indices = []\n",
    "    for i in range(num_news_sites):\n",
    "        news_sites_indices.append(number_of_people+i)\n",
    "        total_network = np.append(total_network,[[0]]*n,axis = 1)\n",
    "        total_network = np.append(total_network,[[0]*(n+1)],axis = 0)\n",
    "        n += 1\n",
    "\n",
    "    news_sites_indices_political = np.random.choice(2,num_news_sites,replace = True)\n",
    "\n",
    "    fake_news_sites_indices = []\n",
    "    for i in range(fake_news_sites):\n",
    "        fake_news_sites_indices.append(news_sites_indices[-1]+1+i)\n",
    "        total_network = np.append(total_network,[[0]]*n,axis = 1)\n",
    "        total_network = np.append(total_network,[[0]*(n+1)],axis = 0)\n",
    "        n += 1\n",
    "\n",
    "    fake_news_sites_indices_political = np.random.choice(2,fake_news_sites,replace = True)\n",
    "    \n",
    "    for i in news_sites_indices:\n",
    "        total_network[i,i] = 1\n",
    "        \n",
    "    for i in fake_news_sites_indices:\n",
    "        total_network[i,i] = 1\n",
    "    \n",
    "    return total_network, news_sites_indices, news_sites_indices_political, fake_news_sites_indices, fake_news_sites_indices_political"
   ]
  },
  {
   "cell_type": "code",
   "execution_count": 3,
   "metadata": {
    "collapsed": true
   },
   "outputs": [],
   "source": [
    "def assign_W_weights(A_matrix, W_matrix, weight_for_significant_others,weight_given_to_news_sources,number_news_connections,number_of_people, democrats, republicans, news_sites_indices, news_sites_indices_political, fake_news_sites_indices, fake_news_sites_indices_political):\n",
    "    \"\"\" This function constructs the W matrix and checks the condition that rows sum to 1 \n",
    "    \n",
    "    Parameters:\n",
    "    -----------\n",
    "    total_network: network of people/news sites\n",
    "    weight_for_significant_others: % of weight given to significant others\n",
    "    weight_given_to_news_sources: % of weight given to news source\n",
    "    number_news_connections: number of news sites that each person is connected to\n",
    "    number_of_people: number of people in network\n",
    "    democrats: indicies of democratic people\n",
    "    republicans: indices of republican people\n",
    "    news_sites_indices: indices of news sites\n",
    "    news_sites_indices_political: array which specifies 0 (Democrat) or 1 (Republican) for each index in news_sites_indices\n",
    "    fake_news_sites_indices: indices of fake news sites\n",
    "    fake_news_sites_indices_political: array which specifies 0 (Democrat) or 1 (Republican) for each index in fake_news_sites_indices\n",
    "    \n",
    "    Returns:\n",
    "    --------\n",
    "    W_matrix: final weight matrix\n",
    "    \"\"\"\n",
    "\n",
    "    for i in range(number_of_people):\n",
    "        connections = list(np.nonzero(W_matrix[i,:] != 0)[0])\n",
    "        num_connections = len(connections)\n",
    "        num_news = range(len(news_sites_indices))\n",
    "        num_fake_news = range(len(fake_news_sites_indices))\n",
    "        \n",
    "        W_matrix[i,i] = 1-A_matrix[i,i]\n",
    "        total_weight_to_give = A_matrix[i,i]\n",
    "        weight_given = W_matrix[i,i]\n",
    "        \n",
    "        if i in democrats:\n",
    "            my_news = [news_sites_indices[i] for i in num_news if news_sites_indices_political[i] == 0]\n",
    "            my_fake_news = [fake_news_sites_indices[i] for i in num_fake_news if fake_news_sites_indices_political[i] == 0]\n",
    "            all_news = np.append(my_fake_news,my_news)\n",
    "            news_connections = [all_news[i] for i in np.random.choice(list(range(len(all_news))),number_news_connections,replace = False)]\n",
    "\n",
    "        elif i in republicans:\n",
    "            my_news = [news_sites_indices[i] for i in num_news if news_sites_indices_political[i] == 1]\n",
    "            my_fake_news = [fake_news_sites_indices[i] for i in num_fake_news if fake_news_sites_indices_political[i] == 1]\n",
    "            all_news = np.append(my_fake_news,my_news)\n",
    "            news_connections = [all_news[i] for i in np.random.choice(list(range(len(all_news))),number_news_connections,replace = False)]\n",
    "\n",
    "        for a in news_connections:\n",
    "            W_matrix[i,int(a)] = weight_given_to_news_sources*total_weight_to_give\n",
    "            weight_given += weight_given_to_news_sources*(total_weight_to_give)\n",
    "        \n",
    "        if num_connections <= 2:\n",
    "            weight_left = 1 - weight_given\n",
    "\n",
    "            a = [random.random() for i in range(num_connections)]\n",
    "            b = [weight_left*aa/float(sum(a)) for aa in a]\n",
    "            \n",
    "            for aa in range(len(b)):\n",
    "                W_matrix[i,connections[aa]] = b[aa]\n",
    "            W_matrix[i,connections[aa]] = b[aa]-10**(-15)\n",
    "        \n",
    "        elif num_connections > 2:\n",
    "            signif_others = [connections[i] for i in np.random.choice(list(range(num_connections)),2,replace = False)]\n",
    "            con = [c for c in connections if c not in signif_others]\n",
    "            for j in signif_others:\n",
    "                W_matrix[i,j] = weight_for_significant_others*total_weight_to_give\n",
    "                weight_given += weight_for_significant_others*total_weight_to_give\n",
    "                \n",
    "            weight_left = 1 - weight_given\n",
    "            \n",
    "            a = [random.random() for i in range(len(con))]\n",
    "            b = [weight_left*aa/float(sum(a)) for aa in a]\n",
    "            for aa in range(len(con)):\n",
    "                W_matrix[i,con[aa]] = b[aa]\n",
    "            W_matrix[i,con[aa]] = b[aa]-10**(-15)\n",
    "          \n",
    "    return W_matrix\n"
   ]
  },
  {
   "cell_type": "code",
   "execution_count": 4,
   "metadata": {
    "collapsed": false
   },
   "outputs": [],
   "source": [
    "def check_W(W_matrix):\n",
    "    #check that each row sums to 1 \n",
    "    for i in range(W_matrix.shape[0]):\n",
    "        row_weight = np.sum(W_matrix, axis=1)[i]\n",
    "        try:\n",
    "            assert (row_weight <= 1.0)\n",
    "        except:\n",
    "            print(row_weight)\n",
    "            \n",
    "        try:\n",
    "            assert round(row_weight,2) == 1.0\n",
    "        except:\n",
    "            print(round(row_weight,2))\n",
    "        \n",
    "\n",
    "def check_A(A_matrix):\n",
    "    for i in range(A_matrix.shape[0]):\n",
    "        if i < 4039: # if a person\n",
    "            assert A_matrix[i,i] >= 0 and A_matrix[i,i] <= 1\n",
    "        else:\n",
    "            assert A_matrix[i,i] == 0\n",
    "            \n",
    "def check_X0(X0_matrix):\n",
    "    for i in range(len(X0_matrix)):\n",
    "        try:\n",
    "            assert X0_matrix[i][0] >= 0 and X0_matrix[i][0] <= 1.0\n",
    "        except:\n",
    "            print(i,X0_matrix[i][0])"
   ]
  },
  {
   "cell_type": "code",
   "execution_count": 5,
   "metadata": {
    "collapsed": true
   },
   "outputs": [],
   "source": [
    "def construct_W_matrix(A_matrix, total_network,num_news_sites,fake_news_sites,weight_for_significant_others,weight_given_to_news_sources,number_news_connections):\n",
    "    \"\"\"Driver function for constructing W matrix\n",
    "    \n",
    "    Parameters:\n",
    "    -----------\n",
    "    num_news_sites: number of news sites to include in network\n",
    "    fake_news_sites: number of fake news sites to include in network\n",
    "    weight_for_significant_others: percentage weight to give to significant others\n",
    "    weight_given_to_news_sources: percentage weight to give to news sources\n",
    "    number_news_connections: number of news sources each person is connected to \n",
    "    \n",
    "    Returns:\n",
    "    -------\n",
    "    W_matrix: W matrix\n",
    "    news_info: List of tuples (a,b) where a is index of news site and b is political leaning of news site (0 or 1)\n",
    "    fake_news_info: List of tuples (a,b) where a is index of fake news site and b is political leaning of fake news site (0 or 1)\n",
    "    democrats: indices of democratic people\n",
    "    republicans: indices of republican people\n",
    "    \"\"\"\n",
    "        \n",
    "    #2: Split people into Republican or Democrat (Independents split evenly between the two groups)\n",
    "    #40.9% call themselves liberal, 28.4% moderate, and 30.7% call themselves conservative \n",
    "    parties = list(range(number_of_people))\n",
    "    np.random.shuffle(parties)\n",
    "    democrats = parties[:int(len(parties)*(0.409+0.142))]\n",
    "    republicans = parties[int(len(parties)*(0.409+0.142)):]\n",
    "    \n",
    "    total_network, news_sites_indices, news_sites_indices_political, fake_news_sites_indices, fake_news_sites_indices_political = add_in_news_sites( num_news_sites,fake_news_sites, total_network,number_of_people)\n",
    "    W_matrix = assign_W_weights(A_matrix, total_network, weight_for_significant_others,weight_given_to_news_sources,number_news_connections, number_of_people, democrats, republicans,news_sites_indices, news_sites_indices_political, fake_news_sites_indices, fake_news_sites_indices_political)\n",
    "    \n",
    "    news_info = list(zip(news_sites_indices,news_sites_indices_political))\n",
    "    fake_news_info = list(zip(fake_news_sites_indices,fake_news_sites_indices_political))\n",
    "    \n",
    "    return W_matrix, news_info, fake_news_info, democrats, republicans "
   ]
  },
  {
   "cell_type": "code",
   "execution_count": 6,
   "metadata": {
    "collapsed": true
   },
   "outputs": [],
   "source": [
    "def construct_A_matrix(num_news,num_fake_news):\n",
    "    n = 4039\n",
    "    A_matrix = np.empty([n+num_news+num_fake_news,n+num_news+num_fake_news])\n",
    "    for i in range(n):\n",
    "        A_matrix[i,i] = random.random()\n",
    "    for i in range(n,A_matrix.shape[0]):\n",
    "        A_matrix[i,i] = 0\n",
    "    return A_matrix\n"
   ]
  },
  {
   "cell_type": "code",
   "execution_count": 7,
   "metadata": {
    "collapsed": true
   },
   "outputs": [],
   "source": [
    "def construct_X0_matrix(news_sites, fake_news_sites, democrats, republicans):\n",
    "    \"\"\"Initial Belief Matrix for statement: Abortion should be legal in all/most cases\n",
    "    \n",
    "    News sources:\n",
    "    -news sources are assigned belief based on their political leaning\n",
    "    -random value in [0,0.5] for republicans\n",
    "    -random value in [0.5,1] for democrats\n",
    "    \n",
    "    Fake news sources:\n",
    "    -fake news sources are assigned belief based on their political leaning but assigned EXTREME beliefs\n",
    "    -random value in [0,0.1] for republicans\n",
    "    -random value in [0.9,1] for democrats\n",
    "    \n",
    "    People:\n",
    "    -54% of moderates are assigned random value in [0.5,1], rest are assigned random value in [0,0.5]\n",
    "    -66% of democrats are assigned random value in [0.5,1], rest are assigned random value in [0,0.5]\n",
    "    -36% of republicans are assigned random value in [0.5,1], rest are assigned random value in [0,0.5]\n",
    "    \"\"\"\n",
    "    X_matrix = np.empty([4039+len(news_sites)+len(fake_news_sites),1])\n",
    "\n",
    "    #1: deal with news sites\n",
    "    for i in news_sites:\n",
    "        if i[1] == 0: #if democrat\n",
    "            X_matrix[i[0]] = 0.5*np.random.random()+0.5\n",
    "        elif i[1] == 1:\n",
    "            X_matrix[i[0]] = 0.5*np.random.random()\n",
    "            \n",
    "    #2: deal with fake news sites\n",
    "    for i in fake_news_sites:\n",
    "        if i[1] == 0: #if democrat then in [0.9,1]\n",
    "            X_matrix[i[0]] = 0.1*np.random.random()+0.9\n",
    "        elif i[1] == 1: #if republican, then in [0,0.1]\n",
    "            X_matrix[i[0]] = 0.1*np.random.random()\n",
    "            \n",
    "    #3: deal with people\n",
    "    all_ppl = len(democrats)+len(republicans)\n",
    "    independent_dems = democrats[:int(all_ppl*0.142)]\n",
    "    true_dems = [i for i in democrats if i not in independent_dems]\n",
    "    independent_repub = republicans[:int(all_ppl*0.142)]\n",
    "    true_repubs = [i for i in republicans if i not in independent_repub]\n",
    "    \n",
    "    #if democrat, 66% support [0.5,1]\n",
    "    support_dems = true_dems[:int(len(true_dems)*0.66)]\n",
    "    for i in true_dems:\n",
    "        if i in support_dems:\n",
    "            X_matrix[i] = 0.5*np.random.random()+0.5\n",
    "        else:\n",
    "            X_matrix[i] = 0.5*np.random.random()\n",
    "         \n",
    "    #if republican, 36% support\n",
    "    support_repub = true_repubs[:int(len(true_repubs)*0.36)]\n",
    "    for i in true_repubs:\n",
    "        if i in support_repub:\n",
    "            X_matrix[i] = 0.5*np.random.random()+0.5\n",
    "        else:\n",
    "            X_matrix[i] = 0.5*np.random.random()\n",
    "                     \n",
    "    #if moderate, 54% support\n",
    "    independents = true_dems + true_repubs\n",
    "    support_ind = independents[:int(len(independents)*0.54)]\n",
    "    for i in independents:\n",
    "        if i in support_ind:\n",
    "            X_matrix[i] = 0.5*np.random.random()+0.5\n",
    "        else:\n",
    "            X_matrix[i] = 0.5*np.random.random()\n",
    "        \n",
    "                               \n",
    "    return X_matrix"
   ]
  },
  {
   "cell_type": "code",
   "execution_count": 8,
   "metadata": {
    "collapsed": false
   },
   "outputs": [],
   "source": [
    "# Constructing the new X matrix\n",
    "def update_beliefs(A_matrix, W_matrix, x_current, X_0):\n",
    "    first_two = np.dot(A_matrix,W_matrix)\n",
    "    second_two = np.dot(first_two, x_current)\n",
    "    I = np.eye((A_matrix).shape[0])\n",
    "    next_x = np.add(second_two,np.dot(np.subtract(I,A_matrix),X_0))\n",
    "    return next_x"
   ]
  },
  {
   "cell_type": "markdown",
   "metadata": {},
   "source": [
    "_________________\n",
    "# Simulation Driver"
   ]
  },
  {
   "cell_type": "code",
   "execution_count": 9,
   "metadata": {
    "collapsed": true
   },
   "outputs": [],
   "source": [
    "#1: Initial set-up\n",
    "number_of_people = 4039\n",
    "total_network = np.empty([number_of_people,number_of_people])\n",
    "\n",
    "fb_connections = np.loadtxt('facebook_combined.txt', delimiter = \" \")\n",
    "for i in fb_connections:\n",
    "    total_network[int(i[0]),int(i[1])] = 1.0\n",
    "    total_network[int(i[1]),int(i[0])] = 1.0"
   ]
  },
  {
   "cell_type": "code",
   "execution_count": 10,
   "metadata": {
    "collapsed": true
   },
   "outputs": [],
   "source": [
    "def initiate_matrices(num_news, num_fake_news, weight_for_significant_others, weight_given_to_news_sources, number_news_connections):\n",
    "    #######Parameters#########\n",
    "    num_news = 7\n",
    "    num_fake_news = 8\n",
    "    weight_for_significant_others = 0.2\n",
    "    weight_given_to_news_sources = 0.1\n",
    "    number_news_connections = 4\n",
    "    ###########################\n",
    "    A_matrix = construct_A_matrix(num_news,num_fake_news)\n",
    "    W_matrix, news_sites, fake_news_sites, democrats, republicans = construct_W_matrix(A_matrix,total_network,num_news,num_fake_news,weight_for_significant_others,weight_given_to_news_sources,number_news_connections)\n",
    "    X_matrix = construct_X0_matrix(news_sites, fake_news_sites, democrats, republicans)\n",
    "    \n",
    "    return W_matrix, A_matrix, X_matrix"
   ]
  },
  {
   "cell_type": "code",
   "execution_count": 11,
   "metadata": {
    "collapsed": false
   },
   "outputs": [
    {
     "ename": "TypeError",
     "evalue": "assign_W_weights() missing 1 required positional argument: 'fake_news_sites_indices_political'",
     "output_type": "error",
     "traceback": [
      "\u001b[0;31m---------------------------------------------------------------------------\u001b[0m",
      "\u001b[0;31mTypeError\u001b[0m                                 Traceback (most recent call last)",
      "\u001b[0;32m<ipython-input-11-0fdb96819fac>\u001b[0m in \u001b[0;36m<module>\u001b[0;34m()\u001b[0m\n\u001b[1;32m      9\u001b[0m \u001b[0mtol\u001b[0m \u001b[0;34m=\u001b[0m \u001b[0;36m0.01\u001b[0m \u001b[0;31m# change the tolerance if needed for convergence\u001b[0m\u001b[0;34m\u001b[0m\u001b[0m\n\u001b[1;32m     10\u001b[0m \u001b[0mcount\u001b[0m \u001b[0;34m=\u001b[0m \u001b[0;36m0\u001b[0m\u001b[0;34m\u001b[0m\u001b[0m\n\u001b[0;32m---> 11\u001b[0;31m \u001b[0mW\u001b[0m\u001b[0;34m,\u001b[0m \u001b[0mA\u001b[0m\u001b[0;34m,\u001b[0m \u001b[0mX\u001b[0m \u001b[0;34m=\u001b[0m \u001b[0minitiate_matrices\u001b[0m\u001b[0;34m(\u001b[0m\u001b[0mnum_news\u001b[0m\u001b[0;34m,\u001b[0m \u001b[0mnum_fake_news\u001b[0m\u001b[0;34m,\u001b[0m \u001b[0mweight_for_significant_others\u001b[0m\u001b[0;34m,\u001b[0m \u001b[0mweight_given_to_news_sources\u001b[0m\u001b[0;34m,\u001b[0m \u001b[0mnumber_news_connections\u001b[0m\u001b[0;34m)\u001b[0m\u001b[0;34m\u001b[0m\u001b[0m\n\u001b[0m\u001b[1;32m     12\u001b[0m \u001b[0;34m\u001b[0m\u001b[0m\n\u001b[1;32m     13\u001b[0m \u001b[0;31m#####Check###\u001b[0m\u001b[0;34m\u001b[0m\u001b[0;34m\u001b[0m\u001b[0m\n",
      "\u001b[0;32m<ipython-input-10-0d6598897b29>\u001b[0m in \u001b[0;36minitiate_matrices\u001b[0;34m(num_news, num_fake_news, weight_for_significant_others, weight_given_to_news_sources, number_news_connections)\u001b[0m\n\u001b[1;32m      8\u001b[0m     \u001b[0;31m###########################\u001b[0m\u001b[0;34m\u001b[0m\u001b[0;34m\u001b[0m\u001b[0m\n\u001b[1;32m      9\u001b[0m     \u001b[0mA_matrix\u001b[0m \u001b[0;34m=\u001b[0m \u001b[0mconstruct_A_matrix\u001b[0m\u001b[0;34m(\u001b[0m\u001b[0mnum_news\u001b[0m\u001b[0;34m,\u001b[0m\u001b[0mnum_fake_news\u001b[0m\u001b[0;34m)\u001b[0m\u001b[0;34m\u001b[0m\u001b[0m\n\u001b[0;32m---> 10\u001b[0;31m     \u001b[0mW_matrix\u001b[0m\u001b[0;34m,\u001b[0m \u001b[0mnews_sites\u001b[0m\u001b[0;34m,\u001b[0m \u001b[0mfake_news_sites\u001b[0m\u001b[0;34m,\u001b[0m \u001b[0mdemocrats\u001b[0m\u001b[0;34m,\u001b[0m \u001b[0mrepublicans\u001b[0m \u001b[0;34m=\u001b[0m \u001b[0mconstruct_W_matrix\u001b[0m\u001b[0;34m(\u001b[0m\u001b[0mtotal_network\u001b[0m\u001b[0;34m,\u001b[0m\u001b[0mnum_news\u001b[0m\u001b[0;34m,\u001b[0m\u001b[0mnum_fake_news\u001b[0m\u001b[0;34m,\u001b[0m\u001b[0mweight_for_significant_others\u001b[0m\u001b[0;34m,\u001b[0m\u001b[0mweight_given_to_news_sources\u001b[0m\u001b[0;34m,\u001b[0m\u001b[0mnumber_news_connections\u001b[0m\u001b[0;34m)\u001b[0m\u001b[0;34m\u001b[0m\u001b[0m\n\u001b[0m\u001b[1;32m     11\u001b[0m     \u001b[0mX_matrix\u001b[0m \u001b[0;34m=\u001b[0m \u001b[0mconstruct_X0_matrix\u001b[0m\u001b[0;34m(\u001b[0m\u001b[0mnews_sites\u001b[0m\u001b[0;34m,\u001b[0m \u001b[0mfake_news_sites\u001b[0m\u001b[0;34m,\u001b[0m \u001b[0mdemocrats\u001b[0m\u001b[0;34m,\u001b[0m \u001b[0mrepublicans\u001b[0m\u001b[0;34m)\u001b[0m\u001b[0;34m\u001b[0m\u001b[0m\n\u001b[1;32m     12\u001b[0m \u001b[0;34m\u001b[0m\u001b[0m\n",
      "\u001b[0;32m<ipython-input-5-66a0956b8330>\u001b[0m in \u001b[0;36mconstruct_W_matrix\u001b[0;34m(total_network, num_news_sites, fake_news_sites, weight_for_significant_others, weight_given_to_news_sources, number_news_connections)\u001b[0m\n\u001b[1;32m     27\u001b[0m \u001b[0;34m\u001b[0m\u001b[0m\n\u001b[1;32m     28\u001b[0m     \u001b[0mtotal_network\u001b[0m\u001b[0;34m,\u001b[0m \u001b[0mnews_sites_indices\u001b[0m\u001b[0;34m,\u001b[0m \u001b[0mnews_sites_indices_political\u001b[0m\u001b[0;34m,\u001b[0m \u001b[0mfake_news_sites_indices\u001b[0m\u001b[0;34m,\u001b[0m \u001b[0mfake_news_sites_indices_political\u001b[0m \u001b[0;34m=\u001b[0m \u001b[0madd_in_news_sites\u001b[0m\u001b[0;34m(\u001b[0m \u001b[0mnum_news_sites\u001b[0m\u001b[0;34m,\u001b[0m\u001b[0mfake_news_sites\u001b[0m\u001b[0;34m,\u001b[0m \u001b[0mtotal_network\u001b[0m\u001b[0;34m,\u001b[0m\u001b[0mnumber_of_people\u001b[0m\u001b[0;34m)\u001b[0m\u001b[0;34m\u001b[0m\u001b[0m\n\u001b[0;32m---> 29\u001b[0;31m     \u001b[0mW_matrix\u001b[0m \u001b[0;34m=\u001b[0m \u001b[0massign_W_weights\u001b[0m\u001b[0;34m(\u001b[0m\u001b[0mtotal_network\u001b[0m\u001b[0;34m,\u001b[0m \u001b[0mweight_for_significant_others\u001b[0m\u001b[0;34m,\u001b[0m\u001b[0mweight_given_to_news_sources\u001b[0m\u001b[0;34m,\u001b[0m\u001b[0mnumber_news_connections\u001b[0m\u001b[0;34m,\u001b[0m \u001b[0mnumber_of_people\u001b[0m\u001b[0;34m,\u001b[0m \u001b[0mdemocrats\u001b[0m\u001b[0;34m,\u001b[0m \u001b[0mrepublicans\u001b[0m\u001b[0;34m,\u001b[0m\u001b[0mnews_sites_indices\u001b[0m\u001b[0;34m,\u001b[0m \u001b[0mnews_sites_indices_political\u001b[0m\u001b[0;34m,\u001b[0m \u001b[0mfake_news_sites_indices\u001b[0m\u001b[0;34m,\u001b[0m \u001b[0mfake_news_sites_indices_political\u001b[0m\u001b[0;34m)\u001b[0m\u001b[0;34m\u001b[0m\u001b[0m\n\u001b[0m\u001b[1;32m     30\u001b[0m \u001b[0;34m\u001b[0m\u001b[0m\n\u001b[1;32m     31\u001b[0m     \u001b[0mnews_info\u001b[0m \u001b[0;34m=\u001b[0m \u001b[0mlist\u001b[0m\u001b[0;34m(\u001b[0m\u001b[0mzip\u001b[0m\u001b[0;34m(\u001b[0m\u001b[0mnews_sites_indices\u001b[0m\u001b[0;34m,\u001b[0m\u001b[0mnews_sites_indices_political\u001b[0m\u001b[0;34m)\u001b[0m\u001b[0;34m)\u001b[0m\u001b[0;34m\u001b[0m\u001b[0m\n",
      "\u001b[0;31mTypeError\u001b[0m: assign_W_weights() missing 1 required positional argument: 'fake_news_sites_indices_political'"
     ]
    }
   ],
   "source": [
    "#######Parameters#########\n",
    "num_news = 7\n",
    "num_fake_news = 8\n",
    "weight_for_significant_others = 0.2\n",
    "weight_given_to_news_sources = 0.1\n",
    "number_news_connections = 10\n",
    "###########################\n",
    "\n",
    "tol = 0.01 # change the tolerance if needed for convergence\n",
    "count = 0\n",
    "W, A, X = initiate_matrices(num_news, num_fake_news, weight_for_significant_others, weight_given_to_news_sources, number_news_connections)\n",
    "\n",
    "#####Check###\n",
    "check_W(W)\n",
    "check_A(A)\n",
    "check_X0(X)\n",
    "############\n",
    "\n",
    "X0 = X[:,:]\n",
    "X_new = update_beliefs(A, W, X, X0)\n",
    "\n",
    "belief_results =  [X0, X_new]\n",
    "\n",
    "while np.linalg.norm(np.subtract(X,X_new)) > tol:\n",
    "    X = X_new\n",
    "    count += 1\n",
    "    if (count%100 == 0):\n",
    "        print(count)\n",
    "        break\n",
    "    X_new = update_beliefs(A, W, X, X0)\n",
    "    for i in X_new:\n",
    "        if i[0] > 1.0 or i[0] < 0:\n",
    "            print(\"Problem\")\n",
    "            break\n",
    "    \n",
    "    \n",
    "    belief_results.append(X_new)\n",
    "\n",
    "print(count)\n",
    "#compare old and new beliefs\n",
    "#for i in range(len(X_new)):    \n",
    "#    print(X[i],X_new[i])\n",
    "    "
   ]
  },
  {
   "cell_type": "code",
   "execution_count": 83,
   "metadata": {
    "collapsed": false
   },
   "outputs": [
    {
     "data": {
      "image/png": "[encoded data removed]",
      "text/plain": [
       "<matplotlib.figure.Figure at 0x116000518>"
      ]
     },
     "metadata": {},
     "output_type": "display_data"
    }
   ],
   "source": [
    "ppl = []\n",
    "for p in range(4039):\n",
    "    person = []\n",
    "    for m in range(len(belief_results)):\n",
    "        person.append(belief_results[m][p])\n",
    "    ppl.append(person)\n",
    "    \n",
    "import matplotlib.pyplot as plt\n",
    "%matplotlib inline  \n",
    "plt.figure(figsize=(5,5))\n",
    "\n",
    "for i in range(len(ppl)):\n",
    "    plt.plot(ppl[i])"
   ]
  },
  {
   "cell_type": "code",
   "execution_count": 68,
   "metadata": {
    "collapsed": false
   },
   "outputs": [],
   "source": [
    "check_W(W)"
   ]
  },
  {
   "cell_type": "code",
   "execution_count": 69,
   "metadata": {
    "collapsed": false
   },
   "outputs": [],
   "source": [
    "check_A(A)"
   ]
  },
  {
   "cell_type": "code",
   "execution_count": 93,
   "metadata": {
    "collapsed": false
   },
   "outputs": [
    {
     "name": "stdout",
     "output_type": "stream",
     "text": [
      "705 2.68156176972e+154\n"
     ]
    }
   ],
   "source": [
    "check_X0(X0)"
   ]
  },
  {
   "cell_type": "code",
   "execution_count": 90,
   "metadata": {
    "collapsed": false
   },
   "outputs": [
    {
     "name": "stdout",
     "output_type": "stream",
     "text": [
      "[  2.68156177e+154]\n"
     ]
    }
   ],
   "source": [
    "print(belief_results[0][705])"
   ]
  },
  {
   "cell_type": "code",
   "execution_count": 91,
   "metadata": {
    "collapsed": false
   },
   "outputs": [
    {
     "name": "stdout",
     "output_type": "stream",
     "text": [
      "[  2.68156177e+154]\n"
     ]
    }
   ],
   "source": [
    "print(X0[705])"
   ]
  }
 ],
 "metadata": {
  "anaconda-cloud": {},
  "kernelspec": {
   "display_name": "Python [py35]",
   "language": "python",
   "name": "Python [py35]"
  },
  "language_info": {
   "codemirror_mode": {
    "name": "ipython",
    "version": 3
   },
   "file_extension": ".py",
   "mimetype": "text/x-python",
   "name": "python",
   "nbconvert_exporter": "python",
   "pygments_lexer": "ipython3",
   "version": "3.5.2"
  }
 },
 "nbformat": 4,
 "nbformat_minor": 1
}
